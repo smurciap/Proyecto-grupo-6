{
  "nbformat": 4,
  "nbformat_minor": 0,
  "metadata": {
    "colab": {
      "name": "Untitled6.ipynb",
      "provenance": [],
      "authorship_tag": "ABX9TyMrn+qoRte9L/sZAzhWFnIh",
      "include_colab_link": true
    },
    "kernelspec": {
      "name": "python3",
      "display_name": "Python 3"
    }
  },
  "cells": [
    {
      "cell_type": "markdown",
      "metadata": {
        "id": "view-in-github",
        "colab_type": "text"
      },
      "source": [
        "<a href=\"https://colab.research.google.com/github/smurciap/Proyecto-grupo-6/blob/main/Untitled6.ipynb\" target=\"_parent\"><img src=\"https://colab.research.google.com/assets/colab-badge.svg\" alt=\"Open In Colab\"/></a>"
      ]
    },
    {
      "cell_type": "code",
      "metadata": {
        "id": "4HmOxVeCwVfB"
      },
      "source": [
        ""
      ],
      "execution_count": null,
      "outputs": []
    },
    {
      "cell_type": "code",
      "metadata": {
        "id": "5BlBiv7swcbo"
      },
      "source": [
        "from tabulate import tabulate\n",
        "datos=[]\n",
        "\n",
        "def tdatos():\n",
        "  #debemos cuadrar la cantidad de datos obtenidos en el while\n",
        "  while len(datos)<3:\n",
        "    x=float(input())\n",
        "    y=float(input())\n",
        "    dt=[x,y]\n",
        "    datos.append(dt)\n",
        "  print(tabulate(datos, headers=[\"x\",\"y\" ], tablefmt='fancy_grid'))"
      ],
      "execution_count": 26,
      "outputs": []
    },
    {
      "cell_type": "code",
      "metadata": {
        "id": "yTwAC51a3tEl",
        "outputId": "6ed1e111-a9f6-46df-f364-3627cd2ae640",
        "colab": {
          "base_uri": "https://localhost:8080/"
        }
      },
      "source": [
        "tdatos()"
      ],
      "execution_count": 27,
      "outputs": [
        {
          "output_type": "stream",
          "text": [
            "1\n",
            "2\n",
            "3\n",
            "4\n",
            "5\n",
            "6\n",
            "╒═════╤═════╕\n",
            "│   x │   y │\n",
            "╞═════╪═════╡\n",
            "│   1 │   2 │\n",
            "├─────┼─────┤\n",
            "│   3 │   4 │\n",
            "├─────┼─────┤\n",
            "│   5 │   6 │\n",
            "╘═════╧═════╛\n"
          ],
          "name": "stdout"
        }
      ]
    }
  ]
}