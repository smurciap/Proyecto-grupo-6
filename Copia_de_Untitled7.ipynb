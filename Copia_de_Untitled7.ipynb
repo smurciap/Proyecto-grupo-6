{
  "nbformat": 4,
  "nbformat_minor": 0,
  "metadata": {
    "colab": {
      "name": "Copia de Untitled7.ipynb",
      "provenance": [],
      "authorship_tag": "ABX9TyMBbXe2efrW3eZwyIV9E/d6",
      "include_colab_link": true
    },
    "kernelspec": {
      "name": "python3",
      "display_name": "Python 3"
    }
  },
  "cells": [
    {
      "cell_type": "markdown",
      "metadata": {
        "id": "view-in-github",
        "colab_type": "text"
      },
      "source": [
        "<a href=\"https://colab.research.google.com/github/smurciap/Proyecto-grupo-6/blob/main/Copia_de_Untitled7.ipynb\" target=\"_parent\"><img src=\"https://colab.research.google.com/assets/colab-badge.svg\" alt=\"Open In Colab\"/></a>"
      ]
    },
    {
      "cell_type": "code",
      "metadata": {
        "id": "ispL4CPZrZLt"
      },
      "source": [
        "#Primer código con el cual extraeremos el texto  \n",
        "import PyPDF2\n",
        "# a representa la ruta del archivo\n",
        "def lector(a):\n",
        "  archivo = open('a')\n",
        "  lector = PyPDF2.PdfFileReader(archivo)\n",
        "  paginas = lector.getPage(0)\n",
        "  contenido = paginas.extractText()\n",
        "  print(contenido)\n",
        "\n",
        "def extractor(b):\n",
        "  txt= lector(b)\n",
        "  el=[]\n",
        "  for i in txt:\n",
        "    if i != \",\":\n",
        "      el.append(i)\n",
        "  return el\n",
        "    "
      ],
      "execution_count": null,
      "outputs": []
    },
    {
      "cell_type": "code",
      "metadata": {
        "id": "7gxbzRiREFJq"
      },
      "source": [
        ""
      ],
      "execution_count": null,
      "outputs": []
    }
  ]
}